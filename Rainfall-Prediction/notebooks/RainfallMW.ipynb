{
  "nbformat": 4,
  "nbformat_minor": 0,
  "metadata": {
    "colab": {
      "provenance": []
    },
    "kernelspec": {
      "name": "python3",
      "display_name": "Python 3"
    },
    "language_info": {
      "name": "python"
    }
  },
  "cells": [
    {
      "cell_type": "code",
      "execution_count": 6,
      "metadata": {
        "id": "_5E0J--jpyMW"
      },
      "outputs": [],
      "source": [
        "import pandas as pd\n",
        "import numpy as np\n",
        "import matplotlib.pyplot as plt\n",
        "import seaborn as sns\n",
        "\n",
        "import plotly.express as px\n",
        "import plotly.graph_objects as go\n",
        "from plotly.subplots import make_subplots\n",
        "from datetime import datetime"
      ]
    },
    {
      "cell_type": "code",
      "source": [
        "df = pd.read_csv(\"/content/Rainfall_Data_LL.csv\")"
      ],
      "metadata": {
        "id": "0vs7n7jMrAv7"
      },
      "execution_count": 7,
      "outputs": []
    },
    {
      "cell_type": "code",
      "source": [
        "df1 = df.loc[df['SUBDIVISION'] == 'Matathwada'].iloc[:, 2:16]\n",
        "df2 = pd.melt(df1, id_vars='YEAR', value_vars=df1.columns[1:-1])\n",
        "df2['Date'] = df2['variable'] + ' ' + df2['YEAR'].astype(str)\n",
        "df2.loc[:,'Date'] = df2['Date'].apply(lambda x : datetime.strptime(x, '%b %Y'))\n",
        "df2.columns=['Year', 'Month', 'Rainfall', 'Date']\n",
        "df2.sort_values(by='Date', inplace=True)\n",
        "df3 = df2.drop(columns = [\"Month\", \"Year\"])\n",
        "df3.set_index(\"Date\", inplace = True)"
      ],
      "metadata": {
        "id": "TZpkstb6rAsm"
      },
      "execution_count": 8,
      "outputs": []
    },
    {
      "cell_type": "code",
      "source": [
        "pip install pmdarima"
      ],
      "metadata": {
        "colab": {
          "base_uri": "https://localhost:8080/"
        },
        "id": "eZACmrtErAqD",
        "outputId": "dfc4512b-399b-4ffd-e1a8-f86c1a94a923"
      },
      "execution_count": 9,
      "outputs": [
        {
          "output_type": "stream",
          "name": "stdout",
          "text": [
            "Collecting pmdarima\n",
            "  Downloading pmdarima-2.0.4-cp310-cp310-manylinux_2_17_x86_64.manylinux2014_x86_64.manylinux_2_28_x86_64.whl (2.1 MB)\n",
            "\u001b[2K     \u001b[90m━━━━━━━━━━━━━━━━━━━━━━━━━━━━━━━━━━━━━━━━\u001b[0m \u001b[32m2.1/2.1 MB\u001b[0m \u001b[31m9.7 MB/s\u001b[0m eta \u001b[36m0:00:00\u001b[0m\n",
            "\u001b[?25hRequirement already satisfied: joblib>=0.11 in /usr/local/lib/python3.10/dist-packages (from pmdarima) (1.3.2)\n",
            "Requirement already satisfied: Cython!=0.29.18,!=0.29.31,>=0.29 in /usr/local/lib/python3.10/dist-packages (from pmdarima) (3.0.10)\n",
            "Requirement already satisfied: numpy>=1.21.2 in /usr/local/lib/python3.10/dist-packages (from pmdarima) (1.25.2)\n",
            "Requirement already satisfied: pandas>=0.19 in /usr/local/lib/python3.10/dist-packages (from pmdarima) (2.0.3)\n",
            "Requirement already satisfied: scikit-learn>=0.22 in /usr/local/lib/python3.10/dist-packages (from pmdarima) (1.2.2)\n",
            "Requirement already satisfied: scipy>=1.3.2 in /usr/local/lib/python3.10/dist-packages (from pmdarima) (1.11.4)\n",
            "Requirement already satisfied: statsmodels>=0.13.2 in /usr/local/lib/python3.10/dist-packages (from pmdarima) (0.14.1)\n",
            "Requirement already satisfied: urllib3 in /usr/local/lib/python3.10/dist-packages (from pmdarima) (2.0.7)\n",
            "Requirement already satisfied: setuptools!=50.0.0,>=38.6.0 in /usr/local/lib/python3.10/dist-packages (from pmdarima) (67.7.2)\n",
            "Requirement already satisfied: packaging>=17.1 in /usr/local/lib/python3.10/dist-packages (from pmdarima) (24.0)\n",
            "Requirement already satisfied: python-dateutil>=2.8.2 in /usr/local/lib/python3.10/dist-packages (from pandas>=0.19->pmdarima) (2.8.2)\n",
            "Requirement already satisfied: pytz>=2020.1 in /usr/local/lib/python3.10/dist-packages (from pandas>=0.19->pmdarima) (2023.4)\n",
            "Requirement already satisfied: tzdata>=2022.1 in /usr/local/lib/python3.10/dist-packages (from pandas>=0.19->pmdarima) (2024.1)\n",
            "Requirement already satisfied: threadpoolctl>=2.0.0 in /usr/local/lib/python3.10/dist-packages (from scikit-learn>=0.22->pmdarima) (3.4.0)\n",
            "Requirement already satisfied: patsy>=0.5.4 in /usr/local/lib/python3.10/dist-packages (from statsmodels>=0.13.2->pmdarima) (0.5.6)\n",
            "Requirement already satisfied: six in /usr/local/lib/python3.10/dist-packages (from patsy>=0.5.4->statsmodels>=0.13.2->pmdarima) (1.16.0)\n",
            "Installing collected packages: pmdarima\n",
            "Successfully installed pmdarima-2.0.4\n"
          ]
        }
      ]
    },
    {
      "cell_type": "code",
      "source": [
        "from pmdarima import auto_arima\n",
        "train = df3.iloc[:-90]\n",
        "test = df3.iloc[-90:]"
      ],
      "metadata": {
        "id": "TJ0XQ5LJrAnb"
      },
      "execution_count": 10,
      "outputs": []
    },
    {
      "cell_type": "code",
      "source": [
        "model3 = auto_arima(y = df3.Rainfall, m = 12)"
      ],
      "metadata": {
        "id": "7ptFUB5jy87N"
      },
      "execution_count": 11,
      "outputs": []
    },
    {
      "cell_type": "code",
      "source": [
        "predictions3 = pd.Series(model3.predict(n_periods = 12))\n",
        "predictions3"
      ],
      "metadata": {
        "colab": {
          "base_uri": "https://localhost:8080/"
        },
        "id": "ShYUtV6ty_Kk",
        "outputId": "2de521ac-63db-46c0-a9af-11c35c6e954b"
      },
      "execution_count": 13,
      "outputs": [
        {
          "output_type": "execute_result",
          "data": {
            "text/plain": [
              "2018-01-01      6.739256\n",
              "2018-02-01      7.523164\n",
              "2018-03-01     17.548508\n",
              "2018-04-01     11.135269\n",
              "2018-05-01     12.122091\n",
              "2018-06-01    115.128523\n",
              "2018-07-01    155.863195\n",
              "2018-08-01    156.090233\n",
              "2018-09-01    153.294718\n",
              "2018-10-01     62.465946\n",
              "2018-11-01     14.172963\n",
              "2018-12-01      7.306057\n",
              "Freq: MS, dtype: float64"
            ]
          },
          "metadata": {},
          "execution_count": 13
        }
      ]
    },
    {
      "cell_type": "code",
      "source": [
        "from google.colab import drive\n",
        "drive.mount('/content/drive')"
      ],
      "metadata": {
        "colab": {
          "base_uri": "https://localhost:8080/"
        },
        "id": "ZFrUMWEd1tIU",
        "outputId": "dbbeac66-45e3-4dea-cd0f-ea53ce1a819a"
      },
      "execution_count": 14,
      "outputs": [
        {
          "output_type": "stream",
          "name": "stdout",
          "text": [
            "Mounted at /content/drive\n"
          ]
        }
      ]
    },
    {
      "cell_type": "code",
      "source": [
        "pip install bz2file"
      ],
      "metadata": {
        "colab": {
          "base_uri": "https://localhost:8080/"
        },
        "id": "sBk2vQNJ2OZq",
        "outputId": "f9081f10-ebc2-4e36-a13b-f5faf5ea0eb5"
      },
      "execution_count": 15,
      "outputs": [
        {
          "output_type": "stream",
          "name": "stdout",
          "text": [
            "Collecting bz2file\n",
            "  Downloading bz2file-0.98.tar.gz (11 kB)\n",
            "  Preparing metadata (setup.py) ... \u001b[?25l\u001b[?25hdone\n",
            "Building wheels for collected packages: bz2file\n",
            "  Building wheel for bz2file (setup.py) ... \u001b[?25l\u001b[?25hdone\n",
            "  Created wheel for bz2file: filename=bz2file-0.98-py3-none-any.whl size=6868 sha256=f2ee488e83165347ad9b17377096edd9856a072227b7ac5c012a2c1d814f5cee\n",
            "  Stored in directory: /root/.cache/pip/wheels/69/ee/f7/6fccd10cb65421ba2da64fa6caf8ee7fbae0059884af8c8587\n",
            "Successfully built bz2file\n",
            "Installing collected packages: bz2file\n",
            "Successfully installed bz2file-0.98\n"
          ]
        }
      ]
    },
    {
      "cell_type": "code",
      "source": [
        "import bz2file as bz2\n",
        "import pickle"
      ],
      "metadata": {
        "id": "PIYW5LLj2OWn"
      },
      "execution_count": 16,
      "outputs": []
    },
    {
      "cell_type": "code",
      "source": [
        "def compressed_pickle(title, data):\n",
        "  with bz2.BZ2File(title + '.pbz2', 'w') as f:\n",
        "    pickle.dump(data, f)"
      ],
      "metadata": {
        "id": "jM35mEyj2OTg"
      },
      "execution_count": 17,
      "outputs": []
    },
    {
      "cell_type": "code",
      "source": [
        "compressed_pickle('model3', 'model3')"
      ],
      "metadata": {
        "id": "QVm3eHWD2OQi"
      },
      "execution_count": 18,
      "outputs": []
    },
    {
      "cell_type": "code",
      "source": [
        "def decompress_pickle(file):\n",
        "  data = bz2.BZ2File(file, 'rb')\n",
        "  data = pickle.load(data)\n",
        "  return data"
      ],
      "metadata": {
        "id": "ywL4L2Wf2X8u"
      },
      "execution_count": 19,
      "outputs": []
    },
    {
      "cell_type": "code",
      "source": [
        "model = decompress_pickle('model3.pbz2')"
      ],
      "metadata": {
        "id": "x-jCiiFQ2X5J"
      },
      "execution_count": 20,
      "outputs": []
    },
    {
      "cell_type": "code",
      "source": [
        "model3.predict(n_periods = 12)"
      ],
      "metadata": {
        "colab": {
          "base_uri": "https://localhost:8080/"
        },
        "id": "t1x2bQX52dly",
        "outputId": "d086a490-3d4a-4bae-e6bc-ba1c98fdfcf3"
      },
      "execution_count": 21,
      "outputs": [
        {
          "output_type": "execute_result",
          "data": {
            "text/plain": [
              "2018-01-01      6.739256\n",
              "2018-02-01      7.523164\n",
              "2018-03-01     17.548508\n",
              "2018-04-01     11.135269\n",
              "2018-05-01     12.122091\n",
              "2018-06-01    115.128523\n",
              "2018-07-01    155.863195\n",
              "2018-08-01    156.090233\n",
              "2018-09-01    153.294718\n",
              "2018-10-01     62.465946\n",
              "2018-11-01     14.172963\n",
              "2018-12-01      7.306057\n",
              "Freq: MS, dtype: float64"
            ]
          },
          "metadata": {},
          "execution_count": 21
        }
      ]
    }
  ]
}